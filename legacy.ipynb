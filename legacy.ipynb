{
 "cells": [
  {
   "cell_type": "code",
   "execution_count": null,
   "id": "38b7626b",
   "metadata": {},
   "outputs": [],
   "source": [
    "import pandas as pd\n",
    "import numpy as np"
   ]
  },
  {
   "cell_type": "code",
   "execution_count": null,
   "id": "e1ad2137",
   "metadata": {},
   "outputs": [],
   "source": [
    "def process_and_store(chunk,i):\n",
    "     chunk.to_csv(f'en-fr-chunk-{i}.csv', mode='w', index=False)"
   ]
  },
  {
   "cell_type": "code",
   "execution_count": null,
   "id": "2bdd0b7f",
   "metadata": {},
   "outputs": [],
   "source": [
    "batch_size = 1_000_000\n",
    "i = 1\n",
    "for chunk in pd.read_csv('en-fr.csv', chunksize=batch_size):\n",
    "    process_and_store(chunk,i)\n",
    "    i+=1\n",
    "    "
   ]
  }
 ],
 "metadata": {
  "language_info": {
   "name": "python"
  }
 },
 "nbformat": 4,
 "nbformat_minor": 5
}
