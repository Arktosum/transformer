{
 "cells": [
  {
   "cell_type": "code",
   "execution_count": 8,
   "id": "260c73c7",
   "metadata": {},
   "outputs": [],
   "source": [
    "import pandas as pd\n",
    "import numpy as np\n",
    "\n",
    "from tokenizers import Tokenizer\n",
    "from tokenizers.models import BPE\n",
    "from tokenizers.trainers import BpeTrainer\n",
    "from tokenizers.pre_tokenizers import Whitespace\n"
   ]
  },
  {
   "cell_type": "code",
   "execution_count": 9,
   "id": "0daed332",
   "metadata": {},
   "outputs": [],
   "source": [
    "df = pd.read_csv('en-fr-chunk-2.csv')"
   ]
  },
  {
   "cell_type": "code",
   "execution_count": 10,
   "id": "8cc15061",
   "metadata": {},
   "outputs": [],
   "source": [
    "english_sentences = []\n",
    "french_sentences = []\n",
    "for line in df.iterrows():\n",
    "    english_sentence = line[1]['en']\n",
    "    french_sentence = line[1]['fr']\n",
    "    english_sentences.append(str(english_sentence))\n",
    "    french_sentences.append(str(french_sentence))\n"
   ]
  },
  {
   "cell_type": "code",
   "execution_count": 11,
   "id": "07870b27",
   "metadata": {},
   "outputs": [],
   "source": [
    "SEQUENCE_LENGTH = 256\n",
    "INPUT_VOCABULARY_SIZE=30_000\n",
    "TARGET_VOCABULARY_SIZE=30_000"
   ]
  },
  {
   "cell_type": "code",
   "execution_count": null,
   "id": "9f1935e5",
   "metadata": {},
   "outputs": [],
   "source": [
    "# def BPETokenizer(name,corpus_sentences,vocab_size=30000):\n",
    "#     # Initialize a BPE tokenizer\n",
    "#     tokenizer = Tokenizer(BPE())\n",
    "\n",
    "#     # Set up a trainer with desired vocabulary size\n",
    "#     trainer = BpeTrainer(vocab_size=vocab_size, min_frequency=2, special_tokens=[\"<unk>\", \"<pad>\", \"<bos>\", \"<eos>\"])\n",
    "\n",
    "#     # Define a pre-tokenizer to split input text into words\n",
    "#     tokenizer.pre_tokenizer = Whitespace()\n",
    "\n",
    "#     # Tokenizer expects an iterator of strings\n",
    "#     tokenizer.train_from_iterator(corpus_sentences, trainer=trainer)\n",
    "#     tokenizer.enable_padding(length=SEQUENCE_LENGTH, pad_id=tokenizer.token_to_id(\"<pad>\"), pad_token=\"<pad>\")\n",
    "#     tokenizer.save(f\"bpe_tokenizer-{name}.json\")\n",
    "#     return tokenizer\n",
    "\n",
    "\n",
    "# english_tokenizer = BPETokenizer('en',english_sentences,INPUT_VOCABULARY_SIZE)\n",
    "# french_tokenizer = BPETokenizer('fr',french_sentences,TARGET_VOCABULARY_SIZE)"
   ]
  },
  {
   "cell_type": "code",
   "execution_count": null,
   "id": "3c2d3e88",
   "metadata": {},
   "outputs": [],
   "source": [
    "from transformers import PreTrainedTokenizerFast\n",
    "\n",
    "# Load the tokenizer from the JSON file\n",
    "english_tokenizer = PreTrainedTokenizerFast(tokenizer_file=\"bpe_tokenizer-en.json\")\n",
    "french_tokenizer = PreTrainedTokenizerFast(tokenizer_file=\"bpe_tokenizer-fr.json\")"
   ]
  },
  {
   "cell_type": "code",
   "execution_count": null,
   "id": "9e99dc3d",
   "metadata": {},
   "outputs": [
    {
     "ename": "ValueError",
     "evalue": "expected sequence of length 256 at dim 1 (got 470)",
     "output_type": "error",
     "traceback": [
      "\u001b[1;31m---------------------------------------------------------------------------\u001b[0m",
      "\u001b[1;31mValueError\u001b[0m                                Traceback (most recent call last)",
      "Cell \u001b[1;32mIn[17], line 9\u001b[0m\n\u001b[0;32m      6\u001b[0m     english_encoding \u001b[38;5;241m=\u001b[39m english_tokenizer\u001b[38;5;241m.\u001b[39mencode(en)\u001b[38;5;241m.\u001b[39mids\n\u001b[0;32m      7\u001b[0m     english_inputs\u001b[38;5;241m.\u001b[39mappend(english_encoding)\n\u001b[1;32m----> 9\u001b[0m \u001b[38;5;28mprint\u001b[39m(\u001b[43mtorch\u001b[49m\u001b[38;5;241;43m.\u001b[39;49m\u001b[43mtensor\u001b[49m\u001b[43m(\u001b[49m\u001b[43menglish_inputs\u001b[49m\u001b[43m)\u001b[49m\u001b[38;5;241m.\u001b[39mshape)\n",
      "\u001b[1;31mValueError\u001b[0m: expected sequence of length 256 at dim 1 (got 470)"
     ]
    }
   ],
   "source": [
    "import torch\n",
    "\n",
    "\n",
    "english_inputs = []\n",
    "for en,fr in zip(english_sentences,french_sentences):\n",
    "    english_encoding = english_tokenizer.encode(en).ids\n",
    "    english_inputs.append(english_encoding)\n"
   ]
  },
  {
   "cell_type": "code",
   "execution_count": 18,
   "id": "b27af8d4",
   "metadata": {},
   "outputs": [
    {
     "ename": "ValueError",
     "evalue": "expected sequence of length 256 at dim 1 (got 470)",
     "output_type": "error",
     "traceback": [
      "\u001b[1;31m---------------------------------------------------------------------------\u001b[0m",
      "\u001b[1;31mValueError\u001b[0m                                Traceback (most recent call last)",
      "Cell \u001b[1;32mIn[18], line 1\u001b[0m\n\u001b[1;32m----> 1\u001b[0m \u001b[43mtorch\u001b[49m\u001b[38;5;241;43m.\u001b[39;49m\u001b[43mTensor\u001b[49m\u001b[43m(\u001b[49m\u001b[43menglish_inputs\u001b[49m\u001b[43m)\u001b[49m\u001b[38;5;241m.\u001b[39mshape\n",
      "\u001b[1;31mValueError\u001b[0m: expected sequence of length 256 at dim 1 (got 470)"
     ]
    }
   ],
   "source": [
    "torch.Tensor(english_inputs).shape\n"
   ]
  },
  {
   "cell_type": "code",
   "execution_count": null,
   "id": "896f3630",
   "metadata": {},
   "outputs": [],
   "source": []
  }
 ],
 "metadata": {
  "kernelspec": {
   "display_name": "Python 3",
   "language": "python",
   "name": "python3"
  },
  "language_info": {
   "codemirror_mode": {
    "name": "ipython",
    "version": 3
   },
   "file_extension": ".py",
   "mimetype": "text/x-python",
   "name": "python",
   "nbconvert_exporter": "python",
   "pygments_lexer": "ipython3",
   "version": "3.10.6"
  }
 },
 "nbformat": 4,
 "nbformat_minor": 5
}
